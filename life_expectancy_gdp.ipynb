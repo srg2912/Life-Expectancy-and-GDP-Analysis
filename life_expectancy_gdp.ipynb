{
 "cells": [
  {
   "cell_type": "markdown",
   "metadata": {},
   "source": [
    "# Life Expectancy and GDP Analysis\n",
    "*By [Sergio Avalos S.](https://github.com/srg2912)*"
   ]
  },
  {
   "cell_type": "markdown",
   "metadata": {},
   "source": [
    "In this project, we aim to explore this dataset using libraries like pandas, matplotlib and seaborn. The specific goals we aim to achieve are:\n",
    "\n",
    " - Analyze the correlation between GDP and life expectancy – Determine whether wealthier countries tend to have longer life expectancy.\n",
    " - Identify trends over time – See how GDP and life expectancy have evolved globally or for specific countries.\n",
    " - Predict life expectancy – Use regression models to predict life expectancy based on GDP.\n",
    " - Detect anomalies – Find countries with unexpectedly high or low life expectancy relative to their GDP.  "
   ]
  },
  {
   "cell_type": "markdown",
   "metadata": {},
   "source": [
    "### 1. Data Understanding and Cleaning"
   ]
  },
  {
   "cell_type": "markdown",
   "metadata": {},
   "source": [
    "\n",
    "First, we need to import the libraries we'll use alongside the dataset we'll be using. We'll also be checking for any missing values."
   ]
  },
  {
   "cell_type": "code",
   "execution_count": 84,
   "metadata": {},
   "outputs": [],
   "source": [
    "# Importing modules\n",
    "import pandas as pd\n",
    "import numpy as np\n",
    "import seaborn as sns\n",
    "import statsmodels.api as sm\n",
    "import matplotlib.pyplot as plt\n",
    "import scipy.stats\n",
    "\n",
    "# Importing Dataset as df\n",
    "df = pd.read_csv('all_data.csv')"
   ]
  },
  {
   "cell_type": "markdown",
   "metadata": {},
   "source": [
    "Now that we've created our new DataFrame df, we'll check the first five rows and additional information related to the DataFrame."
   ]
  },
  {
   "cell_type": "code",
   "execution_count": null,
   "metadata": {},
   "outputs": [],
   "source": [
    "# Inspects first five rows and additional information of the variables\n",
    "print(df.head())\n",
    "print(df.info())"
   ]
  },
  {
   "cell_type": "markdown",
   "metadata": {},
   "source": [
    "The columns of our DataFrame are 'Country', 'Year', 'Life expectancy at birth (years)' and 'GDP'. There are no null values and, originally, the variable Country has an object type, and the variable Year has an integer type. We'll change the type of Country to string, since it's a nominal variable, but we'll also change the type of the Year variable to Object, since it's an ordinal variable."
   ]
  },
  {
   "cell_type": "code",
   "execution_count": null,
   "metadata": {},
   "outputs": [],
   "source": [
    "# Convert data types \n",
    "df.Country = df.Country.astype('string')\n",
    "df.Year = df.Year.astype('object')\n",
    "\n",
    "# Print new data types\n",
    "print(df.dtypes) \n",
    "\n",
    "# Print the years we have on our DataFrame\n",
    "print(df.Year.unique())"
   ]
  },
  {
   "cell_type": "markdown",
   "metadata": {},
   "source": [
    "Since we have data from the year 2000 to the year 2015, we'll transform now Year into an ordinal variable using the Panda's Categorical method."
   ]
  },
  {
   "cell_type": "code",
   "execution_count": null,
   "metadata": {},
   "outputs": [],
   "source": [
    "# Transforms Year into an ordinal variable\n",
    "order_list = [i for i in df.Year.unique()]\n",
    "df.Year = pd.Categorical(df.Year, order_list, ordered=True)\n",
    "\n",
    "# Prints the result\n",
    "print(df.Year.unique())"
   ]
  },
  {
   "cell_type": "markdown",
   "metadata": {},
   "source": [
    "To ensure we don't have any missing data or any outliers, we'll print all of the unique values of Country, and we'll create histograms for the numerical variables."
   ]
  },
  {
   "cell_type": "code",
   "execution_count": null,
   "metadata": {},
   "outputs": [],
   "source": [
    "# Print all the unique values of Country:\n",
    "print(df.Country.unique())"
   ]
  },
  {
   "cell_type": "code",
   "execution_count": null,
   "metadata": {},
   "outputs": [],
   "source": [
    "# Rename Life expectancy at birth (years) to Life_exp for practical reasons\n",
    "df.rename(columns={'Life expectancy at birth (years)': 'Life_exp'}, inplace=True)\n",
    "\n",
    "# Histogram for Life_exp:\n",
    "sns.histplot(df.Life_exp)\n",
    "plt.title('Count of Life Expectancty')\n",
    "plt.xlabel('Life Expectancy (Years)')\n",
    "plt.ylabel('Count')\n",
    "\n",
    "plt.show()\n",
    "plt.clf()"
   ]
  },
  {
   "cell_type": "code",
   "execution_count": 90,
   "metadata": {},
   "outputs": [],
   "source": [
    "# Converting data into of GDP into Billion USD:\n",
    "df.GDP = round(df.GDP / (10**9), 2)"
   ]
  },
  {
   "cell_type": "code",
   "execution_count": null,
   "metadata": {},
   "outputs": [],
   "source": [
    "# Histogram for GDP:\n",
    "sns.histplot(df.GDP)\n",
    "plt.title('Count of GDP')\n",
    "plt.xlabel('GDP (Billion USD)')\n",
    "plt.ylabel('Count')\n",
    "\n",
    "plt.show()\n",
    "plt.clf()"
   ]
  },
  {
   "cell_type": "markdown",
   "metadata": {},
   "source": [
    "Summary of changes we've made:\n",
    " - The Country variable didn't present any missing values, so no changes were made.\n",
    " - The Life expectancy at birth (years) variable name was changed to Life_exp for practical reasons, it didn't present any stange values like 0 or extremely high averages.\n",
    " - The GDP variable that was previously measured in USD now it's measured in Billion USD for practical reason, it presents a histogram highly skewed to the right. "
   ]
  },
  {
   "cell_type": "markdown",
   "metadata": {},
   "source": [
    "### 2. Exploratory Data Analysis (EDA)"
   ]
  },
  {
   "cell_type": "markdown",
   "metadata": {},
   "source": [
    "In this section, we'll proceed with the Exploratory Data Analysis (EDA): We'll explore any how life expectancy and GDP vary across countries and time."
   ]
  },
  {
   "cell_type": "markdown",
   "metadata": {},
   "source": [
    "First we will explore how Life expectancy and GDP vary across time for differen countries:"
   ]
  },
  {
   "cell_type": "code",
   "execution_count": null,
   "metadata": {},
   "outputs": [],
   "source": [
    "# Lineplot for Life_exp vs Year\n",
    "sns.lineplot(x='Year', y='Life_exp', hue='Country', data=df)\n",
    "plt.xlabel('Year')\n",
    "plt.ylabel('Life expectancy (years)')\n",
    "plt.title('Change in Life Expectancy through the years')\n",
    "plt.show()\n",
    "plt.clf()"
   ]
  },
  {
   "cell_type": "code",
   "execution_count": null,
   "metadata": {},
   "outputs": [],
   "source": [
    "# Lineplot for GDP vs Year\n",
    "sns.lineplot(x='Year', y='GDP', hue='Country', data=df)\n",
    "plt.xlabel('Year')\n",
    "plt.ylabel('GDP (Biliion USD)')\n",
    "plt.title('Change in GDP through the years')\n",
    "plt.show()\n",
    "plt.clf()"
   ]
  },
  {
   "cell_type": "markdown",
   "metadata": {},
   "source": [
    "From our plots we can deduce that the country of Zimbabwe has consistently kept an extremely low life expectancy through the years, on the other hand, the United States of America has consistently kept an extremely high GDP and China has had a considerably increment on it's GDP ever since 2006, surpasing Germany, that has consistently kept a high GDP, on 2007."
   ]
  },
  {
   "cell_type": "markdown",
   "metadata": {},
   "source": [
    "From the previous plots we can observe that, although having similar GDP's, Zimbabwe and Chile have significantly diiferent life expectancies, this observation makes us question the relationship between both variables, so we'll now analize the relationship between the varibales. We'll analize the covaraince, the Peaterson's correlation and the scatterplot, if there's a correlation, a linear regression model will be implemented."
   ]
  },
  {
   "cell_type": "code",
   "execution_count": null,
   "metadata": {},
   "outputs": [],
   "source": [
    "# Finding covariance\n",
    "cov_GDP_Life_exp = np.cov(df.GDP, df.Life_exp)\n",
    "print(cov_GDP_Life_exp)"
   ]
  },
  {
   "cell_type": "code",
   "execution_count": null,
   "metadata": {},
   "outputs": [],
   "source": [
    "# Finding correlation\n",
    "corr_GDP_Life_exp, p = scipy.stats.pearsonr(df.GDP, df.Life_exp)\n",
    "print(corr_GDP_Life_exp)"
   ]
  },
  {
   "cell_type": "code",
   "execution_count": null,
   "metadata": {},
   "outputs": [],
   "source": [
    "# Setting logarithmic scale\n",
    "log_GDP = df.GDP[df.GDP > 0]\n",
    "log_GDP = np.log(log_GDP)\n",
    "\n",
    "# Making scatter plot\n",
    "sns.scatterplot(x=log_GDP, y='Life_exp', data=df, hue='Country')\n",
    "plt.xlabel('GDP (Billion USD, Log Scale)')\n",
    "plt.ylabel('Life expectancy (years)')\n",
    "plt.title('Life expectancy according to GDP values')\n",
    "\n",
    "# Setting custom ticks\n",
    "tick_values = np.linspace(log_GDP.min(), log_GDP.max(), num=5)\n",
    "tick_labels = [f\"{np.exp(tick) / (10**9):,.0f}\" for tick in tick_values]\n",
    "plt.xticks(tick_values, tick_labels) \n",
    "\n",
    "plt.show()\n",
    "plt.clf()"
   ]
  },
  {
   "cell_type": "markdown",
   "metadata": {},
   "source": [
    "From these values (correlation=0.34, covariance=1.9) we could conclude that there's no correlation between GDP and life expectancy, however, from the scatter plot we can observe that every country seems to have it's very own linear pattern, we will explore these relationships in the next section. "
   ]
  },
  {
   "cell_type": "markdown",
   "metadata": {},
   "source": [
    "### 3. Relationship Between GDP and Life Expectancy per Country"
   ]
  },
  {
   "cell_type": "markdown",
   "metadata": {},
   "source": [
    "We will analize every country, going step by step, at the same time, using the help of for loops:"
   ]
  },
  {
   "cell_type": "code",
   "execution_count": 97,
   "metadata": {},
   "outputs": [],
   "source": [
    "# We create a sub-division of our DataFrame per country\n",
    "usa = df[df.Country == 'United States of America']\n",
    "mexico = df[df.Country == 'Mexico']\n",
    "china = df[df.Country == 'China']\n",
    "germany = df[df.Country == 'Germany']\n",
    "chile = df[df.Country == 'Chile']\n",
    "zimbabwe = df[df.Country == 'Zimbabwe']\n",
    "\n",
    "# Creating set of countries\n",
    "countries = [usa, mexico, china, germany, chile, zimbabwe]"
   ]
  },
  {
   "cell_type": "code",
   "execution_count": null,
   "metadata": {},
   "outputs": [],
   "source": [
    "# Creating the scatter plots\n",
    "for country in countries:\n",
    "    sns.scatterplot(x='GDP', y='Life_exp', data=country)\n",
    "    plt.xlabel('GDP (Billion USD)')\n",
    "    plt.ylabel('Life expectancy (years)')\n",
    "    plt.title(f'Life expectancy according to GDP values for {country.Country.unique()[0]}')\n",
    "    plt.show()\n",
    "    plt.clf()"
   ]
  },
  {
   "cell_type": "code",
   "execution_count": null,
   "metadata": {},
   "outputs": [],
   "source": [
    "# Finding covariance\n",
    "for country in countries:\n",
    "    cov = np.cov(country.GDP, country.Life_exp)\n",
    "    print(f'Covariance for {country.Country.unique()[0]}:')\n",
    "    print(cov)\n",
    "    print('\\n')"
   ]
  },
  {
   "cell_type": "code",
   "execution_count": null,
   "metadata": {},
   "outputs": [],
   "source": [
    "# Finding correlation\n",
    "for country in countries:\n",
    "    corr, p = scipy.stats.pearsonr(country.GDP, country.Life_exp)\n",
    "    print(f'Correlation for {country.Country.unique()[0]}:')\n",
    "    print(corr)\n",
    "    print('\\n')"
   ]
  },
  {
   "cell_type": "markdown",
   "metadata": {},
   "source": [
    "After observing the scatter plots and these first values, we can conclude that they all present linear correlations. We'll now proceed to create our linear regression models: "
   ]
  },
  {
   "cell_type": "code",
   "execution_count": null,
   "metadata": {},
   "outputs": [],
   "source": [
    "# We create the linear models\n",
    "usa_model = sm.OLS.from_formula('Life_exp ~ GDP', data=usa).fit()\n",
    "mexico_model = sm.OLS.from_formula('Life_exp ~ GDP', data=mexico).fit()\n",
    "china_model = sm.OLS.from_formula('Life_exp ~ GDP', data=china).fit()\n",
    "germany_model = sm.OLS.from_formula('Life_exp ~ GDP', data=germany).fit()\n",
    "chile_model = sm.OLS.from_formula('Life_exp ~ GDP', data=chile).fit()\n",
    "zimbabwe_model = sm.OLS.from_formula('Life_exp ~ GDP', data=zimbabwe).fit()\n",
    "\n",
    "# WE create the set of models\n",
    "models_wo_name = [usa_model, mexico_model, china_model, germany_model, chile_model, zimbabwe_model]\n",
    "names = list(df.Country.unique())\n",
    "models = {a:b for a,b in zip(names, models_wo_name)}\n",
    "\n",
    "# We print the parameters\n",
    "for name, model in models.items():\n",
    "    print(f'Correlation for {name}:')\n",
    "    print(model.params)\n",
    "    print('\\n')"
   ]
  },
  {
   "cell_type": "markdown",
   "metadata": {},
   "source": [
    "The intercept in our models represent the theoretical life expectancy with a GDP of 0 USD, while the slope represents by how many years the life expectancy increases by every billion USD the GDP increases. To make sure our models work properly, we need to check the normality and homoscedasticity assumptions."
   ]
  },
  {
   "cell_type": "code",
   "execution_count": 102,
   "metadata": {},
   "outputs": [],
   "source": [
    "# Calculate fitted values\n",
    "fitted_values = [model.predict(country) for model,country in zip(models_wo_name, countries)]\n",
    "\n",
    "# Calculate Residuals:\n",
    "residuals = [country.Life_exp - fitted_value for country,fitted_value in zip(countries,fitted_values)]"
   ]
  },
  {
   "cell_type": "code",
   "execution_count": null,
   "metadata": {},
   "outputs": [],
   "source": [
    "# We check the normality assumption\n",
    "for residual, name in zip(residuals, names):\n",
    "    plt.hist(residual, bins=20)\n",
    "    plt.title(f'Distribution of residuals of {name} model')\n",
    "    plt.show()\n",
    "    plt.clf()"
   ]
  },
  {
   "cell_type": "code",
   "execution_count": null,
   "metadata": {},
   "outputs": [],
   "source": [
    "# We check the homoscedasticity assumption\n",
    "for fitted_value, residual, name in zip(fitted_values, residuals, names):\n",
    "    plt.scatter(fitted_value, residual)\n",
    "    plt.title(f'Fitted values against residuals of {name} model')\n",
    "    plt.axhline(y=0, color='red', linestyle='--')\n",
    "    plt.show()\n",
    "    plt.clf()"
   ]
  },
  {
   "cell_type": "markdown",
   "metadata": {},
   "source": [
    "After Checking the Assumption, we can observe that some models, like the one of Germany or Zimbabwe, don't meet the assumptions of linear regression, therefore, we cannot ensure their reliability. This result might be attributed to data shortage."
   ]
  },
  {
   "cell_type": "markdown",
   "metadata": {},
   "source": [
    "### 4. Conclusion"
   ]
  },
  {
   "cell_type": "markdown",
   "metadata": {},
   "source": [
    "\n",
    "This project aimed to explore the relationship between GDP and life expectancy, identify trends over time, make predictions, and detect anomalies within the dataset. The analysis provided several key insights:  \n",
    "\n",
    "1. **Correlation Between GDP and Life Expectancy:**  \n",
    "   Contrary to initial expectations, there was no strong global correlation between GDP and life expectancy. However, when analyzed individually, each country exhibited its own linear trend. Despite this, regression models for each country failed to meet the assumptions of normality and homoscedasticity, likely due to the limited data available. This suggests that while GDP may influence life expectancy within a country, other factors play a crucial role.  \n",
    "\n",
    "2. **Trends Over Time:**  \n",
    "   Over time, most countries experienced an increase in life expectancy, reinforcing the idea of overall global health improvements. In contrast, GDP trends were more varied: while most countries had stable GDP growth, the United States and China showed significant economic expansion. China's rapid GDP rise since 2006, in particular, was not accompanied by a proportional increase in life expectancy, highlighting potential economic and policy influences beyond just wealth.  \n",
    "\n",
    "3. **Predicting Life Expectancy:**  \n",
    "   Given the data constraints and model limitations, attempts to predict life expectancy based on GDP were unreliable. The failure of the models to meet key statistical assumptions indicates that GDP alone is insufficient to accurately estimate future life expectancy, as other socio-economic, healthcare, and policy factors likely play a role.  \n",
    "\n",
    "4. **Anomaly Detection:**  \n",
    "   Several anomalies were identified:  \n",
    "   - Chile vs. Zimbabwe: Despite having a GDP comparable to Zimbabwe, Chile maintains a significantly higher life expectancy, suggesting that economic wealth alone does not determine public health outcomes.  \n",
    "   - China's Economic Surge: Initially displaying an average GDP, China experienced a sharp economic acceleration after 2006, yet this growth did not translate into a corresponding leap in life expectancy, pointing to potential disparities in wealth distribution, healthcare access, or other socio-political factors.  \n",
    "\n",
    "**Final Thoughts:**  \n",
    "While GDP and life expectancy are often assumed to be strongly correlated, this study reveals a more complex, country-specific relationship. The results suggest that while economic growth can contribute to public health improvements, other factors must be considered. Future work with a larger dataset or additional socio-economic variables could improve the reliability of models and lead to a deeper understanding of these relationships.  "
   ]
  }
 ],
 "metadata": {
  "kernelspec": {
   "display_name": "Python 3",
   "language": "python",
   "name": "python3"
  },
  "language_info": {
   "codemirror_mode": {
    "name": "ipython",
    "version": 3
   },
   "file_extension": ".py",
   "mimetype": "text/x-python",
   "name": "python",
   "nbconvert_exporter": "python",
   "pygments_lexer": "ipython3",
   "version": "3.11.3"
  }
 },
 "nbformat": 4,
 "nbformat_minor": 4
}
